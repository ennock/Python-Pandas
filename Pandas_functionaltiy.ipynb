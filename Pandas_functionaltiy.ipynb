{
  "nbformat": 4,
  "nbformat_minor": 0,
  "metadata": {
    "colab": {
      "provenance": []
    },
    "kernelspec": {
      "name": "python3",
      "display_name": "Python 3"
    },
    "language_info": {
      "name": "python"
    }
  },
  "cells": [
    {
      "cell_type": "code",
      "source": [
        "import pandas as pd\n",
        "import numpy as np"
      ],
      "metadata": {
        "id": "BLHNH3m3iklK"
      },
      "execution_count": 3,
      "outputs": []
    },
    {
      "cell_type": "code",
      "execution_count": 4,
      "metadata": {
        "id": "XbEgJixbg7vn"
      },
      "outputs": [],
      "source": [
        "In [1]: index = pd.date_range(\"1/1/2000\", periods=8)\n",
        "\n",
        "In [2]: s = pd.Series(np.random.randn(5), index=[\"a\", \"b\", \"c\", \"d\", \"e\"])\n",
        "\n",
        "In [3]: df = pd.DataFrame(np.random.randn(8, 3), index=index, columns=[\"A\", \"B\", \"C\"])"
      ]
    },
    {
      "cell_type": "code",
      "source": [
        "long_series = pd.Series (np.random.randn(1000))\n",
        "long_series.head()"
      ],
      "metadata": {
        "colab": {
          "base_uri": "https://localhost:8080/"
        },
        "id": "8tLiYa22jONl",
        "outputId": "0d66f27e-8607-4628-de3e-b701cd34a936"
      },
      "execution_count": 5,
      "outputs": [
        {
          "output_type": "execute_result",
          "data": {
            "text/plain": [
              "0   -0.010223\n",
              "1   -0.085506\n",
              "2   -0.159243\n",
              "3    1.416833\n",
              "4   -0.913409\n",
              "dtype: float64"
            ]
          },
          "metadata": {},
          "execution_count": 5
        }
      ]
    },
    {
      "cell_type": "code",
      "source": [
        "long_series.tail(3)"
      ],
      "metadata": {
        "colab": {
          "base_uri": "https://localhost:8080/"
        },
        "id": "V-LvzrF2jiCG",
        "outputId": "cbdcd0e3-17f8-442f-c045-4a8664e58b01"
      },
      "execution_count": 7,
      "outputs": [
        {
          "output_type": "execute_result",
          "data": {
            "text/plain": [
              "997    0.344191\n",
              "998    1.408611\n",
              "999   -1.127307\n",
              "dtype: float64"
            ]
          },
          "metadata": {},
          "execution_count": 7
        }
      ]
    }
  ]
}