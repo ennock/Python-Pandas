{
 "cells": [
  {
   "cell_type": "markdown",
   "id": "2f7c0d1b-5bec-41be-b82b-d66454c80372",
   "metadata": {},
   "source": [
    "<center>\n",
    "    <img src=\"https://cf-courses-data.s3.us.cloud-object-storage.appdomain.cloud/IBMDeveloperSkillsNetwork-PY0101EN-SkillsNetwork/IDSNlogo.png\" width=\"300\" alt=\"cognitiveclass.ai logo\">\n",
    "</center>\n",
    "\n",
    "# Classes and Objects in Python\n",
    "\n",
    "Estimated time needed: **40** minutes\n",
    "\n",
    "## Objectives\n",
    "\n",
    "After completing this lab you will be able to:\n",
    "\n",
    "*   Work with classes and objects\n",
    "*   Identify and define attributes and methods\n"
   ]
  },
  {
   "cell_type": "markdown",
   "id": "5677afb8-9688-4575-820d-b485162f3411",
   "metadata": {},
   "source": [
    "<h2>Table of Contents</h2>\n",
    "<div class=\"alert alert-block alert-info\" style=\"margin-top: 20px\">\n",
    "    <ul>\n",
    "        <li>\n",
    "            <a href=\"https://#intro\">Introduction to Classes and Objects</a>\n",
    "            <ul>\n",
    "                <li><a href=\"https://create/?utm_medium=Exinfluencer&utm_source=Exinfluencer&utm_content=000026UJ&utm_term=10006555&utm_id=NA-SkillsNetwork-Channel-SkillsNetworkCoursesIBMDeveloperSkillsNetworkPY0101ENSkillsNetwork19487395-2021-01-01\">Creating a class</a></li>\n",
    "                <li><a href=\"https://instance/?utm_medium=Exinfluencer&utm_source=Exinfluencer&utm_content=000026UJ&utm_term=10006555&utm_id=NA-SkillsNetwork-Channel-SkillsNetworkCoursesIBMDeveloperSkillsNetworkPY0101ENSkillsNetwork19487395-2021-01-01\">Instances of a Class: Objects and Attributes</a></li>\n",
    "                <li><a href=\"https://method/?utm_medium=Exinfluencer&utm_source=Exinfluencer&utm_content=000026UJ&utm_term=10006555&utm_id=NA-SkillsNetwork-Channel-SkillsNetworkCoursesIBMDeveloperSkillsNetworkPY0101ENSkillsNetwork19487395-2021-01-01\">Methods</a></li>\n",
    "            </ul>\n",
    "        </li>\n",
    "        <li><a href=\"https://creating/?utm_medium=Exinfluencer&utm_source=Exinfluencer&utm_content=000026UJ&utm_term=10006555&utm_id=NA-SkillsNetwork-Channel-SkillsNetworkCoursesIBMDeveloperSkillsNetworkPY0101ENSkillsNetwork19487395-2021-01-01\">Creating a class</a></li>\n",
    "        <li><a href=\"https://circle/?utm_medium=Exinfluencer&utm_source=Exinfluencer&utm_content=000026UJ&utm_term=10006555&utm_id=NA-SkillsNetwork-Channel-SkillsNetworkCoursesIBMDeveloperSkillsNetworkPY0101ENSkillsNetwork19487395-2021-01-01\">Creating an instance of a class Circle</a></li>\n",
    "        <li><a href=\"https://rect/?utm_medium=Exinfluencer&utm_source=Exinfluencer&utm_content=000026UJ&utm_term=10006555&utm_id=NA-SkillsNetwork-Channel-SkillsNetworkCoursesIBMDeveloperSkillsNetworkPY0101ENSkillsNetwork19487395-2021-01-01\">The Rectangle Class</a></li>\n",
    "    </ul>\n",
    "\n",
    "</div>\n",
    "\n",
    "<hr>\n"
   ]
  },
  {
   "cell_type": "markdown",
   "id": "78a19fb2-7faa-4277-a678-237dc8e6011e",
   "metadata": {},
   "source": [
    "<h2 id=\"intro\">Introduction to Classes and Objects</h2>\n"
   ]
  },
  {
   "cell_type": "markdown",
   "id": "4e8def37-b4cd-44c2-a2bd-388e5b2cc592",
   "metadata": {},
   "source": [
    "<h3>Creating a Class</h3>\n"
   ]
  },
  {
   "cell_type": "markdown",
   "id": "a58a3cd0-7df1-4000-b36f-e94e4a463055",
   "metadata": {},
   "source": [
    "The first step in creating a class is giving it a name. In this notebook, we will create two classes: Circle and Rectangle. We need to determine all the data that make up that class, which we call <em>attributes</em>. Think about this step as creating a blue print that we will use to create objects. In figure 1 we see two classes, Circle and Rectangle. Each has their attributes, which are variables. The class Circle has the attribute radius and color, while the Rectangle class has the attribute height and width. Let’s use the visual examples of these shapes before we get to the code, as this will help you get accustomed to the vocabulary.\n"
   ]
  },
  {
   "cell_type": "markdown",
   "id": "817dbcf7-1ae5-4b49-9257-1c3828330a50",
   "metadata": {},
   "source": [
    "<img src=\"https://cf-courses-data.s3.us.cloud-object-storage.appdomain.cloud/IBMDeveloperSkillsNetwork-PY0101EN-SkillsNetwork/labs/Module%203/images/ClassesClass.png\" width=\"500\">\n"
   ]
  },
  {
   "cell_type": "markdown",
   "id": "106f38e2-5bcf-4082-9061-f5cb480dbe47",
   "metadata": {},
   "source": [
    "<i>Figure 1: Classes circle and rectangle, and each has their own attributes. The class Circle has the attribute radius and colour, the class Rectangle has the attributes height and width.</i>\n"
   ]
  },
  {
   "cell_type": "markdown",
   "id": "fd2310ef-05d5-412b-a0df-e3b23afcbb64",
   "metadata": {},
   "source": [
    "<h3 id=\"instance\">Instances of a Class: Objects and Attributes</h3>\n"
   ]
  },
  {
   "cell_type": "markdown",
   "id": "90175459-9b1a-45f6-b29a-e86b6d1aa1a7",
   "metadata": {},
   "source": [
    "An instance of an object is the realisation of a class, and in Figure 2 we see three instances of the class circle. We give each object a name: red circle, yellow circle, and green circle. Each object has different attributes, so let's focus on the color attribute for each object.\n"
   ]
  },
  {
   "cell_type": "markdown",
   "id": "62aa8e5c-f947-42e6-9107-194950f0a64d",
   "metadata": {},
   "source": [
    "<img src=\"https://cf-courses-data.s3.us.cloud-object-storage.appdomain.cloud/IBMDeveloperSkillsNetwork-PY0101EN-SkillsNetwork/labs/Module%203/images/ClassesObj.png\" width=\"500\">\n"
   ]
  },
  {
   "cell_type": "markdown",
   "id": "e390ca71-5335-46d6-b438-2d359dd805e8",
   "metadata": {},
   "source": [
    "<i>Figure 2: Three instances of the class Circle, or three objects of type Circle.</i>\n"
   ]
  },
  {
   "cell_type": "markdown",
   "id": "4362a9c3-bc54-4aea-b7fd-a3cbd3bbea43",
   "metadata": {},
   "source": [
    "The colour attribute for the red Circle is the colour red, for the green Circle object the colour attribute is green, and for the yellow Circle the colour attribute is yellow.\n"
   ]
  },
  {
   "cell_type": "markdown",
   "id": "9faa51a9-0af0-4825-8725-9b24b858ebef",
   "metadata": {},
   "source": [
    "<h3 id=\"method\">Methods</h3>\n"
   ]
  },
  {
   "cell_type": "markdown",
   "id": "520b7d6b-d227-4499-8a01-5c8e3c2cb604",
   "metadata": {},
   "source": [
    "Methods give you a way to change or interact with the object; they are functions that interact with objects. For example, let’s say we would like to increase the radius of a circle by a specified amount. We can create a method called **add_radius(r)** that increases the radius by **r**. This is shown in figure 3, where after applying the method to the \"orange circle object\", the radius of the object increases accordingly. The “dot” notation means to apply the method to the object, which is essentially applying a function to the information in the object.\n"
   ]
  },
  {
   "cell_type": "markdown",
   "id": "97078d5f-a1c4-43e2-a04d-c27a896fdb38",
   "metadata": {},
   "source": [
    "<img src=\"https://cf-courses-data.s3.us.cloud-object-storage.appdomain.cloud/IBMDeveloperSkillsNetwork-PY0101EN-SkillsNetwork/labs/Module%203/images/ClassesMethod.png\" width=\"500\"> \n"
   ]
  },
  {
   "cell_type": "markdown",
   "id": "31634c89-def3-43b2-87a9-128c9f8d0185",
   "metadata": {},
   "source": [
    "<i>Figure 3: Applying the method “add_radius” to the object orange circle object.</i>\n"
   ]
  },
  {
   "cell_type": "markdown",
   "id": "6b28629a-6869-4562-b035-314865de4c68",
   "metadata": {},
   "source": [
    "<hr>\n"
   ]
  },
  {
   "cell_type": "markdown",
   "id": "8b776192-b87a-48d1-8fec-c0b45ccc332f",
   "metadata": {},
   "source": [
    "<h2 id=\"creating\">Creating a Class</h2>\n"
   ]
  },
  {
   "cell_type": "markdown",
   "id": "0218eff3-361d-44aa-866f-276c43f41928",
   "metadata": {},
   "source": [
    "Now we are going to create a class Circle, but first, we are going to import a library to draw the objects:\n"
   ]
  },
  {
   "cell_type": "code",
   "execution_count": null,
   "id": "ad371a81-1e08-4c20-b1a6-a8ef4e4cec66",
   "metadata": {},
   "outputs": [],
   "source": [
    "# Import the library\n",
    "\n",
    "import matplotlib.pyplot as plt\n",
    "%matplotlib inline  "
   ]
  },
  {
   "cell_type": "markdown",
   "id": "2c3a7083-7ebe-4270-9896-4f3ce1c9e566",
   "metadata": {},
   "source": [
    "The first step in creating your own class is to use the <code>class</code> keyword, then the name of the class as shown in Figure 4. In this course the class parent will always be object:\n"
   ]
  },
  {
   "cell_type": "markdown",
   "id": "0ddfc0d1-1ab1-4754-b516-a6acbf354d2f",
   "metadata": {},
   "source": [
    "<img src=\"https://cf-courses-data.s3.us.cloud-object-storage.appdomain.cloud/IBMDeveloperSkillsNetwork-PY0101EN-SkillsNetwork/labs/Module%203/images/ClassesDefine.png\" width=\"400\">\n"
   ]
  },
  {
   "cell_type": "markdown",
   "id": "fa3190a3-9ac2-4e8c-9ee7-d9d4630bb849",
   "metadata": {},
   "source": [
    "<i>Figure 4: Creating a class Circle.</i>\n"
   ]
  },
  {
   "cell_type": "markdown",
   "id": "9619b083-26b7-423d-9b77-f2663aeef295",
   "metadata": {},
   "source": [
    "The next step is a special method called a constructor <code>\\__init\\_\\_</code>, which is used to initialize the object. The inputs are data attributes. The term <code>self</code> contains all the attributes in the set. For example the <code>self.color</code> gives the value of the attribute color and <code>self.radius</code> will give you the radius of the object. We also have the method <code>add_radius()</code> with the parameter <code>r</code>, the method adds the value of <code>r</code> to the attribute radius. To access the radius we use the syntax <code>self.radius</code>. The labeled syntax is summarized in Figure 5:\n"
   ]
  },
  {
   "cell_type": "markdown",
   "id": "75ae92a9-bb36-4178-af9d-a4d10b0c73a4",
   "metadata": {},
   "source": [
    "<img src=\"https://cf-courses-data.s3.us.cloud-object-storage.appdomain.cloud/IBMDeveloperSkillsNetwork-PY0101EN-SkillsNetwork/labs/Module%203/images/ClassesCircle.png\" width=\"600\">\n"
   ]
  },
  {
   "cell_type": "markdown",
   "id": "a5b738ba-0a43-4212-b7d4-e6aba0b9ccca",
   "metadata": {},
   "source": [
    "<i>Figure 5: Labeled syntax of the object circle.</i>\n"
   ]
  },
  {
   "cell_type": "markdown",
   "id": "cac19b01-2974-4970-bb8f-330cdcdc50a2",
   "metadata": {},
   "source": [
    "The actual object is shown below. We include the method <code>drawCircle</code> to display the image of a circle. We set the default radius to 3 and the default colour to blue:\n"
   ]
  },
  {
   "cell_type": "code",
   "execution_count": 2,
   "id": "8c753906-b1c3-42db-a847-de2fd13047cc",
   "metadata": {},
   "outputs": [],
   "source": [
    "# Create a class Circle\n",
    "\n",
    "class Circle(object):\n",
    "    \n",
    "    # Constructor\n",
    "    def __init__(self, radius=3, color='blue'):\n",
    "        self.radius = radius\n",
    "        self.color = color \n",
    "    \n",
    "    # Method\n",
    "    def add_radius(self, r):\n",
    "        self.radius = self.radius + r\n",
    "        return(self.radius)\n",
    "    \n",
    "    # Method\n",
    "    def drawCircle(self):\n",
    "        plt.gca().add_patch(plt.Circle((0, 0), radius=self.radius, fc=self.color))\n",
    "        plt.axis('scaled')\n",
    "        plt.show()  "
   ]
  },
  {
   "cell_type": "markdown",
   "id": "7c873982-775a-433e-9344-785341ed9609",
   "metadata": {},
   "source": [
    "<hr>\n"
   ]
  },
  {
   "cell_type": "markdown",
   "id": "d377444e-c08f-464a-b231-39fa7c0a4c6f",
   "metadata": {},
   "source": [
    "<h2 id=\"circle\">Creating an instance of a class Circle</h2>\n"
   ]
  },
  {
   "cell_type": "markdown",
   "id": "24629b96-09b1-4865-a2ee-9ea568fbcc77",
   "metadata": {},
   "source": [
    "Let’s create the object <code>RedCircle</code> of type Circle to do the following:\n"
   ]
  },
  {
   "cell_type": "code",
   "execution_count": null,
   "id": "e40cba47-44d0-41f2-978b-470b61b3fa1e",
   "metadata": {},
   "outputs": [],
   "source": [
    "# Create an object RedCircle\n",
    "\n",
    "RedCircle = Circle(10, 'red')"
   ]
  },
  {
   "cell_type": "markdown",
   "id": "71659542-100d-4b39-9f51-f2f2bd7d9560",
   "metadata": {},
   "source": [
    "We can use the <code>dir</code> command to get a list of the object's methods. Many of them are default Python methods.\n"
   ]
  },
  {
   "cell_type": "code",
   "execution_count": null,
   "id": "a06b95b7-0ab7-4690-8a9c-a2d05ad7b116",
   "metadata": {},
   "outputs": [],
   "source": [
    "# Find out the methods can be used on the object RedCircle\n",
    "\n",
    "dir(RedCircle)"
   ]
  },
  {
   "cell_type": "markdown",
   "id": "793a0703-79f9-497f-8132-c6f3ea6a2486",
   "metadata": {},
   "source": [
    "We can look at the data attributes of the object:\n"
   ]
  },
  {
   "cell_type": "code",
   "execution_count": null,
   "id": "5e791d84-dc88-47b1-b062-d0e3502466b4",
   "metadata": {},
   "outputs": [],
   "source": [
    "# Print the object attribute radius\n",
    "\n",
    "RedCircle.radius"
   ]
  },
  {
   "cell_type": "code",
   "execution_count": null,
   "id": "3807d5b6-7f2e-4c45-86e6-e1329eaef086",
   "metadata": {},
   "outputs": [],
   "source": [
    "# Print the object attribute color\n",
    "\n",
    "RedCircle.color"
   ]
  },
  {
   "cell_type": "markdown",
   "id": "fb99eaba-ab30-449c-9af9-2c2e09ee863d",
   "metadata": {},
   "source": [
    "We can change the object's data attributes:\n"
   ]
  },
  {
   "cell_type": "code",
   "execution_count": null,
   "id": "5d5f6162-db72-40ee-b8c2-70bb2a86a7a4",
   "metadata": {},
   "outputs": [],
   "source": [
    "# Set the object attribute radius\n",
    "\n",
    "RedCircle.radius = 1\n",
    "RedCircle.radius"
   ]
  },
  {
   "cell_type": "markdown",
   "id": "ed0b24a9-1d76-45f4-8dfd-6788598035cd",
   "metadata": {},
   "source": [
    "We can draw the object by using the method <code>drawCircle()</code>:\n"
   ]
  },
  {
   "cell_type": "code",
   "execution_count": null,
   "id": "afc344d2-b2e5-4d82-bf1c-77e798c0c860",
   "metadata": {},
   "outputs": [],
   "source": [
    "# Call the method drawCircle\n",
    "\n",
    "RedCircle.drawCircle()"
   ]
  },
  {
   "cell_type": "markdown",
   "id": "e3b4db5c-03bb-469b-848a-519d15c9369f",
   "metadata": {},
   "source": [
    "We can increase the radius of the circle by applying the method <code>add_radius()</code>. Let's increases the radius by 2 and then by 5:\n"
   ]
  },
  {
   "cell_type": "code",
   "execution_count": null,
   "id": "c496e4ad-1f6e-48b3-9ee8-fa91725c8000",
   "metadata": {},
   "outputs": [],
   "source": [
    "# Use method to change the object attribute radius\n",
    "\n",
    "print('Radius of object:',RedCircle.radius)\n",
    "RedCircle.add_radius(2)\n",
    "print('Radius of object of after applying the method add_radius(2):',RedCircle.radius)\n",
    "RedCircle.add_radius(5)\n",
    "print('Radius of object of after applying the method add_radius(5):',RedCircle.radius)"
   ]
  },
  {
   "cell_type": "markdown",
   "id": "5defde42-f14f-4ca0-8425-c34401f32bc1",
   "metadata": {},
   "source": [
    "Let’s create a blue circle. As the default colour is blue, all we have to do is specify what the radius is:\n"
   ]
  },
  {
   "cell_type": "code",
   "execution_count": null,
   "id": "2e83146d-4c4b-481b-92bb-8012845c774c",
   "metadata": {},
   "outputs": [],
   "source": [
    "# Create a blue circle with a given radius\n",
    "\n",
    "BlueCircle = Circle(radius=100)"
   ]
  },
  {
   "cell_type": "markdown",
   "id": "565e1146-3722-400f-beed-eab748fae604",
   "metadata": {},
   "source": [
    "As before, we can access the attributes of the instance of the class by using the dot notation:\n"
   ]
  },
  {
   "cell_type": "code",
   "execution_count": null,
   "id": "700ad482-8af7-4f8e-8067-dc8424b49342",
   "metadata": {},
   "outputs": [],
   "source": [
    "# Print the object attribute radius\n",
    "\n",
    "BlueCircle.radius"
   ]
  },
  {
   "cell_type": "code",
   "execution_count": null,
   "id": "13cbffa2-a823-47fd-9074-a2167857e10f",
   "metadata": {},
   "outputs": [],
   "source": [
    "# Print the object attribute color\n",
    "\n",
    "BlueCircle.color"
   ]
  },
  {
   "cell_type": "markdown",
   "id": "ffc7c673-7265-4b7d-be31-47949ed4be30",
   "metadata": {},
   "source": [
    "We can draw the object by using the method <code>drawCircle()</code>:\n"
   ]
  },
  {
   "cell_type": "code",
   "execution_count": null,
   "id": "62f8fa1f-8624-43d7-a984-148dbb1c2169",
   "metadata": {},
   "outputs": [],
   "source": [
    "# Call the method drawCircle\n",
    "\n",
    "BlueCircle.drawCircle()"
   ]
  },
  {
   "cell_type": "markdown",
   "id": "5bd93701-9cec-47e0-93d1-ac5afc6193da",
   "metadata": {},
   "source": [
    "Compare the x and y axis of the figure to the figure for <code>RedCircle</code>; they are different.\n"
   ]
  },
  {
   "cell_type": "markdown",
   "id": "d6c76932-97b1-41fb-8d11-35c2593bb1a3",
   "metadata": {},
   "source": [
    "<hr>\n"
   ]
  },
  {
   "cell_type": "markdown",
   "id": "14282d88-7505-4faa-994a-c8bc011f69b6",
   "metadata": {},
   "source": [
    "<h2 id=\"rect\">The Rectangle Class</h2>\n"
   ]
  },
  {
   "cell_type": "markdown",
   "id": "b95e4e05-9486-44c0-8c97-064f98410eec",
   "metadata": {},
   "source": [
    "Let's create a class rectangle with the attributes of height, width, and color. We will only add the method to draw the rectangle object:\n"
   ]
  },
  {
   "cell_type": "code",
   "execution_count": 3,
   "id": "0a13c6ea-d6ba-44e5-801e-b8beef277ac7",
   "metadata": {},
   "outputs": [],
   "source": [
    "# Create a new Rectangle class for creating a rectangle object\n",
    "\n",
    "class Rectangle(object):\n",
    "    \n",
    "    # Constructor\n",
    "    def __init__(self, width=2, height=3, color='r'):\n",
    "        self.height = height \n",
    "        self.width = width\n",
    "        self.color = color\n",
    "    \n",
    "    # Method\n",
    "    def drawRectangle(self):\n",
    "        plt.gca().add_patch(plt.Rectangle((0, 0), self.width, self.height ,fc=self.color))\n",
    "        plt.axis('scaled')\n",
    "        plt.show()\n",
    "        "
   ]
  },
  {
   "cell_type": "markdown",
   "id": "e97ec3af-fe9c-493d-beb1-d782458d58c2",
   "metadata": {},
   "source": [
    "Let’s create the object <code>SkinnyBlueRectangle</code> of type Rectangle. Its width will be 2 and height will be 3, and the color will be blue:\n"
   ]
  },
  {
   "cell_type": "code",
   "execution_count": 4,
   "id": "e9defc06-be53-4f55-a0e7-da3fb1b7a41f",
   "metadata": {},
   "outputs": [],
   "source": [
    "# Create a new object rectangle\n",
    "\n",
    "SkinnyBlueRectangle = Rectangle(2, 3, 'blue')"
   ]
  },
  {
   "cell_type": "markdown",
   "id": "5097be17-3264-4d78-a877-8cb7cf6698f2",
   "metadata": {},
   "source": [
    "As before we can access the attributes of the instance of the class by using the dot notation:\n"
   ]
  },
  {
   "cell_type": "code",
   "execution_count": 5,
   "id": "ddffb8b4-3c4e-4f8b-a6a7-a85341bf1841",
   "metadata": {},
   "outputs": [
    {
     "data": {
      "text/plain": [
       "3"
      ]
     },
     "execution_count": 5,
     "metadata": {},
     "output_type": "execute_result"
    }
   ],
   "source": [
    "# Print the object attribute height\n",
    "\n",
    "SkinnyBlueRectangle.height "
   ]
  },
  {
   "cell_type": "code",
   "execution_count": 6,
   "id": "66d6bfff-7e3d-4ce7-8eaf-bfda933ce547",
   "metadata": {},
   "outputs": [
    {
     "data": {
      "text/plain": [
       "2"
      ]
     },
     "execution_count": 6,
     "metadata": {},
     "output_type": "execute_result"
    }
   ],
   "source": [
    "# Print the object attribute width\n",
    "\n",
    "SkinnyBlueRectangle.width"
   ]
  },
  {
   "cell_type": "code",
   "execution_count": 7,
   "id": "fa056cc4-140b-48ec-85ff-27ca5bb31272",
   "metadata": {},
   "outputs": [
    {
     "data": {
      "text/plain": [
       "'blue'"
      ]
     },
     "execution_count": 7,
     "metadata": {},
     "output_type": "execute_result"
    }
   ],
   "source": [
    "# Print the object attribute color\n",
    "\n",
    "SkinnyBlueRectangle.color"
   ]
  },
  {
   "cell_type": "code",
   "execution_count": 9,
   "metadata": {},
   "outputs": [],
   "source": [
    "import matplotlib.pyplot as plt"
   ]
  },
  {
   "cell_type": "markdown",
   "id": "89165403-2408-447b-8f46-6436f63d7c70",
   "metadata": {},
   "source": [
    "We can draw the object:\n"
   ]
  },
  {
   "cell_type": "code",
   "execution_count": 10,
   "id": "0f071b6f-3036-4610-a53b-617440aa7881",
   "metadata": {},
   "outputs": [
    {
     "data": {
      "image/png": "[encoded data removed]",
      "text/plain": [
       "<Figure size 640x480 with 1 Axes>"
      ]
     },
     "metadata": {},
     "output_type": "display_data"
    }
   ],
   "source": [
    "# Use the drawRectangle method to draw the shape\n",
    "\n",
    "SkinnyBlueRectangle.drawRectangle()"
   ]
  },
  {
   "cell_type": "markdown",
   "id": "8087b760-7248-4831-a26f-fe484f0af191",
   "metadata": {},
   "source": [
    "Let’s create the object <code>FatYellowRectangle</code> of type Rectangle:\n"
   ]
  },
  {
   "cell_type": "code",
   "execution_count": 11,
   "id": "9734f543-3cc6-4e26-9574-c8216ed74ccb",
   "metadata": {},
   "outputs": [],
   "source": [
    "# Create a new object rectangle\n",
    "\n",
    "FatYellowRectangle = Rectangle(20, 5, 'yellow')"
   ]
  },
  {
   "cell_type": "markdown",
   "id": "d0ed2e5e-094d-4b79-877d-543b0801feeb",
   "metadata": {},
   "source": [
    "We can access the attributes of the instance of the class by using the dot notation:\n"
   ]
  },
  {
   "cell_type": "code",
   "execution_count": 12,
   "id": "b88d41d3-476b-4cb9-a5ff-faba3fb1088d",
   "metadata": {},
   "outputs": [
    {
     "data": {
      "text/plain": [
       "5"
      ]
     },
     "execution_count": 12,
     "metadata": {},
     "output_type": "execute_result"
    }
   ],
   "source": [
    "# Print the object attribute height\n",
    "\n",
    "FatYellowRectangle.height "
   ]
  },
  {
   "cell_type": "code",
   "execution_count": 13,
   "id": "c59fcb02-f2d6-43c6-a8b4-b9b6e86ea1f3",
   "metadata": {},
   "outputs": [
    {
     "data": {
      "text/plain": [
       "20"
      ]
     },
     "execution_count": 13,
     "metadata": {},
     "output_type": "execute_result"
    }
   ],
   "source": [
    "# Print the object attribute width\n",
    "\n",
    "FatYellowRectangle.width"
   ]
  },
  {
   "cell_type": "code",
   "execution_count": 14,
   "id": "ad9ed591-d7b1-4ec2-914c-057bb5f1547a",
   "metadata": {},
   "outputs": [
    {
     "data": {
      "text/plain": [
       "'yellow'"
      ]
     },
     "execution_count": 14,
     "metadata": {},
     "output_type": "execute_result"
    }
   ],
   "source": [
    "# Print the object attribute color\n",
    "\n",
    "FatYellowRectangle.color"
   ]
  },
  {
   "cell_type": "markdown",
   "id": "298c2745-a178-4087-935f-ce692103ab34",
   "metadata": {},
   "source": [
    "We can draw the object:\n"
   ]
  },
  {
   "cell_type": "code",
   "execution_count": 15,
   "id": "c3b1307c-15fe-4409-9018-659f0c738651",
   "metadata": {},
   "outputs": [
    {
     "data": {
      "image/png": "[encoded data removed]",
      "text/plain": [
       "<Figure size 640x480 with 1 Axes>"
      ]
     },
     "metadata": {},
     "output_type": "display_data"
    }
   ],
   "source": [
    "# Use the drawRectangle method to draw the shape\n",
    "\n",
    "FatYellowRectangle.drawRectangle()"
   ]
  },
  {
   "cell_type": "markdown",
   "id": "52ca2793-cfe0-45a6-89a7-6762e7273430",
   "metadata": {},
   "source": [
    "<hr>\n"
   ]
  },
  {
   "cell_type": "markdown",
   "id": "26c7d2dd-bc3a-451e-bcec-06319f026eb0",
   "metadata": {},
   "source": [
    "<center>\n",
    "    \n",
    "# Scenario: Car dealership's inventory management system\n",
    "\n",
    "</center>\n"
   ]
  },
  {
   "cell_type": "markdown",
   "id": "cbdbb186-5f4c-4640-99cf-659e69de3e1e",
   "metadata": {},
   "source": [
    "You are working on a Python program to simulate a car dealership's inventory management system. The system aims to model cars and their attributes accurately.\n"
   ]
  },
  {
   "cell_type": "markdown",
   "id": "b0cba00d-0353-40f7-8aac-a00222490098",
   "metadata": {},
   "source": [
    "### Task-1. You are tasked with creating a Python program to represent vehicles using a class. Each car should have attributes for maximum speed and mileage. \n"
   ]
  },
  {
   "cell_type": "code",
   "execution_count": null,
   "id": "7e604c71-2544-498f-afb3-69cb307ed7fc",
   "metadata": {},
   "outputs": [],
   "source": [
    "#Type your code here"
   ]
  },
  {
   "cell_type": "markdown",
   "id": "2da449c3-980a-4ae2-a4b8-bf807f6ccb37",
   "metadata": {},
   "source": [
    "<details><summary>Click here for the solution</summary>\n",
    "\n",
    "```python\n",
    "\n",
    "class Vehicle:\n",
    "    def __init__(self, max_speed, mileage):\n",
    "        self.max_speed = max_speed\n",
    "        self.mileage = mileage\n",
    "        \n",
    "```\n",
    "\n",
    "</details>\n"
   ]
  },
  {
   "cell_type": "markdown",
   "id": "05d91b3d-6fc4-4b45-b050-80cfae413668",
   "metadata": {},
   "source": [
    "### Task-2. Update the class with the default color for all vehicles,\" white\".\n"
   ]
  },
  {
   "cell_type": "code",
   "execution_count": null,
   "id": "4ca4e8d8-ee71-4c34-ab7a-83de338df986",
   "metadata": {},
   "outputs": [],
   "source": [
    "#Type your code here"
   ]
  },
  {
   "cell_type": "markdown",
   "id": "7bcd6b3e-3a2c-4b74-a5b7-c694b1551dd0",
   "metadata": {},
   "source": [
    "<details><summary>Click here for the solution</summary>\n",
    "\n",
    "```python\n",
    "\n",
    "class Vehicle:\n",
    "    color = \"white\"\n",
    "\n",
    "    def __init__(self, max_speed, mileage):\n",
    "        self.max_speed = max_speed\n",
    "        self.mileage = mileage\n",
    "        \n",
    "```\n",
    "\n",
    "</details>\n"
   ]
  },
  {
   "cell_type": "markdown",
   "id": "85217890-5d8c-4847-87f3-324e5ee77606",
   "metadata": {},
   "source": [
    "### Task-3. Additionally, you need to create methods in the Vehicle class to assign seating capacity to a vehicle. \n"
   ]
  },
  {
   "cell_type": "code",
   "execution_count": null,
   "id": "6e47ed7d-6edf-410f-8718-18db10ec70e4",
   "metadata": {},
   "outputs": [],
   "source": [
    "#Type your code here"
   ]
  },
  {
   "cell_type": "markdown",
   "id": "1bb15c8b-b242-46a7-b044-a2beb1683578",
   "metadata": {},
   "source": [
    "<details><summary>Click here for the solution</summary>\n",
    "\n",
    "```python\n",
    "\n",
    "class Vehicle:\n",
    "    color = \"white\"\n",
    "\n",
    "    def __init__(self, max_speed, mileage):\n",
    "        self.max_speed = max_speed\n",
    "        self.mileage = mileage\n",
    "        self.seating_capacity = None\n",
    "\n",
    "    def assign_seating_capacity(self, seating_capacity):\n",
    "        self.seating_capacity = seating_capacity\n",
    "```\n",
    "\n",
    "</details>\n"
   ]
  },
  {
   "cell_type": "markdown",
   "id": "0f3844f7-929f-4d8b-b18a-27ce28a9c685",
   "metadata": {},
   "source": [
    "### Task-4. Create a method to display all the properties of an object of the class. \n"
   ]
  },
  {
   "cell_type": "code",
   "execution_count": null,
   "id": "45276853-01ca-470c-9c63-752947c8eac5",
   "metadata": {},
   "outputs": [],
   "source": [
    "#Type your code here"
   ]
  },
  {
   "cell_type": "markdown",
   "id": "0b4962db-8cec-422c-92c2-3cddd33db27a",
   "metadata": {},
   "source": [
    "<details><summary>Click here for the solution</summary>\n",
    "\n",
    "```python\n",
    "class Vehicle:\n",
    "    color = \"white\"\n",
    "\n",
    "    def __init__(self, max_speed, mileage):\n",
    "        self.max_speed = max_speed\n",
    "        self.mileage = mileage\n",
    "        self.seating_capacity = None\n",
    "\n",
    "    def assign_seating_capacity(self, seating_capacity):\n",
    "        self.seating_capacity = seating_capacity\n",
    "\n",
    "    def display_properties(self):\n",
    "        print(\"Properties of the Vehicle:\")\n",
    "        print(\"Color:\", self.color)\n",
    "        print(\"Maximum Speed:\", self.max_speed)\n",
    "        print(\"Mileage:\", self.mileage)\n",
    "        print(\"Seating Capacity:\", self.seating_capacity)\n",
    "        \n",
    "```\n",
    "\n",
    "</details>\n"
   ]
  },
  {
   "cell_type": "markdown",
   "id": "0d41d087-94a7-46ee-aa4e-98e7064b57a5",
   "metadata": {},
   "source": [
    "### Task-5. Additionally, you need to create two objects of the Vehicle class object that should have a max speed of 200kph and mileage of 50000kmpl with five seating capacities, and another car object should have a max speed of 180kph and 75000kmpl with four seating capacities.\n"
   ]
  },
  {
   "cell_type": "code",
   "execution_count": null,
   "id": "00149df6-43dc-43b9-821e-b5b45bc33c79",
   "metadata": {},
   "outputs": [],
   "source": [
    "#Type your code here"
   ]
  },
  {
   "cell_type": "markdown",
   "id": "dcfd7f71-afd6-4b70-ab24-2d913e501c1a",
   "metadata": {},
   "source": [
    "<details><summary>Click here for the solution</summary>\n",
    "\n",
    "```python\n",
    "class Vehicle:\n",
    "    color = \"white\"\n",
    "\n",
    "    def __init__(self, max_speed, mileage):\n",
    "        self.max_speed = max_speed\n",
    "        self.mileage = mileage\n",
    "        self.seating_capacity = None\n",
    "\n",
    "    def assign_seating_capacity(self, seating_capacity):\n",
    "        self.seating_capacity = seating_capacity\n",
    "\n",
    "    def display_properties(self):\n",
    "        print(\"Properties of the Vehicle:\")\n",
    "        print(\"Color:\", self.color)\n",
    "        print(\"Maximum Speed:\", self.max_speed)\n",
    "        print(\"Mileage:\", self.mileage)\n",
    "        print(\"Seating Capacity:\", self.seating_capacity)\n",
    "\n",
    "# Creating objects of the Vehicle class\n",
    "vehicle1 = Vehicle(200, 50000)\n",
    "vehicle1.assign_seating_capacity(5)\n",
    "vehicle1.display_properties()\n",
    "\n",
    "vehicle2 = Vehicle(180, 75000)\n",
    "vehicle2.assign_seating_capacity(4)\n",
    "vehicle2.display_properties()\n",
    "\n",
    "```\n",
    "\n",
    "</details>\n"
   ]
  },
  {
   "cell_type": "markdown",
   "id": "a87cb73d-2ad5-4f5c-98a5-2593489994ee",
   "metadata": {},
   "source": [
    "<hr>\n",
    "<h2>The last exercise!</h2>\n",
    "<p>Congratulations, you have completed your first lesson and hands-on lab in Python. \n",
    "<hr>\n"
   ]
  },
  {
   "cell_type": "markdown",
   "id": "2017eda9-3cc8-4c74-aba0-ec1db18e54d1",
   "metadata": {},
   "source": [
    "## Author\n",
    "\n",
    "<a href=\"https://www.linkedin.com/in/joseph-s-50398b136/?utm_medium=Exinfluencer&utm_source=Exinfluencer&utm_content=000026UJ&utm_term=10006555&utm_id=NA-SkillsNetwork-Channel-SkillsNetworkCoursesIBMDeveloperSkillsNetworkPY0101ENSkillsNetwork19487395-2021-01-01\">Joseph Santarcangelo</a>\n",
    "\n",
    "## Other contributors\n",
    "\n",
    "<a href=\"https://www.linkedin.com/in/jiahui-mavis-zhou-a4537814a?utm_medium=Exinfluencer&utm_source=Exinfluencer&utm_content=000026UJ&utm_term=10006555&utm_id=NA-SkillsNetwork-Channel-SkillsNetworkCoursesIBMDeveloperSkillsNetworkPY0101ENSkillsNetwork19487395-2021-01-01\">Mavis Zhou</a>\n",
    "\n",
    "## Change Log\n",
    "\n",
    "| Date (YYYY-MM-DD) | Version | Changed By | Change Description                 |\n",
    "| ----------------- | ------- | ---------- | ---------------------------------- |\n",
    "| 2023-05-16        | 2.2     |Akansha Yadav | updated lab under maintenance   |\n",
    "| 2022-01-10        | 2.1     | Malika     | Removed the readme for GitShare    |\n",
    "| 2020-08-26        | 2.0     | Lavanya    | Moved lab to course repo in GitLab |\n",
    "|                   |         |            |                                    |\n",
    "|                   |         |            |                                    |\n",
    "\n",
    "<hr/>\n",
    "\n",
    "## <h3 align=\"center\"> © IBM Corporation 2020. All rights reserved. <h3/>\n"
   ]
  }
 ],
 "metadata": {
  "kernelspec": {
   "display_name": "Python 3 (ipykernel)",
   "language": "python",
   "name": "python3"
  },
  "language_info": {
   "codemirror_mode": {
    "name": "ipython",
    "version": 3
   },
   "file_extension": ".py",
   "mimetype": "text/x-python",
   "name": "python",
   "nbconvert_exporter": "python",
   "pygments_lexer": "ipython3",
   "version": "3.11.5"
  }
 },
 "nbformat": 4,
 "nbformat_minor": 4
}
